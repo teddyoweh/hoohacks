{
 "cells": [
  {
   "cell_type": "code",
   "execution_count": null,
   "metadata": {},
   "outputs": [],
   "source": [
    "!python3 start.py"
   ]
  },
  {
   "cell_type": "code",
   "execution_count": null,
   "metadata": {},
   "outputs": [],
   "source": [
    "!mv flaskboilerplate-main/* ./\n"
   ]
  },
  {
   "cell_type": "code",
   "execution_count": null,
   "metadata": {},
   "outputs": [],
   "source": [
    "!python3 run.py"
   ]
  },
  {
   "cell_type": "code",
   "execution_count": 28,
   "metadata": {},
   "outputs": [],
   "source": [
    "from elevenlabs import Voice, VoiceSettings, play,save\n",
    "\n",
    "\n",
    "from elevenlabs.client import ElevenLabs\n",
    "\n",
    "client = ElevenLabs(\n",
    "  api_key=\"32da7ece4e40e3a0958f92cc392f3f0f\", # Defaults to ELEVEN_API_KEY\n",
    ")\n",
    "text =\"\"\"\n",
    "So, umm, the pizza box can be compostable, you know, because it's made of cardboard, which, uhh, decomposes pretty well. But, yeah, the thing is, it's only compostable if it's not too greasy or contaminated with food. As for the coffee cup, most of the time, they've got this thin plastic lining inside to keep the coffee from leaking, which kinda complicates things, making them not so recyclable in most places. But if you've got a compostable cup, then yeah, it could go into the compost bin\n",
    "\"\"\"\n",
    "\n"
   ]
  },
  {
   "cell_type": "code",
   "execution_count": 30,
   "metadata": {},
   "outputs": [],
   "source": [
    "save(audio, \"audio.mp3\")"
   ]
  },
  {
   "cell_type": "code",
   "execution_count": 31,
   "metadata": {},
   "outputs": [
    {
     "name": "stdout",
     "output_type": "stream",
     "text": [
      "Audio uploaded to Cloudinary: https://res.cloudinary.com/dqclsnpy9/video/upload/v1711265807/rsapnabaw3tjgr8ecb7o.mp3\n"
     ]
    }
   ],
   "source": [
    "import cloudinary.uploader\n",
    "import requests\n",
    "\n",
    "def upload_to_cloudinary(text):\n",
    "    audio = client.generate(\n",
    "    text=text,\n",
    "    voice=Voice(\n",
    "      \n",
    "        voice_id='TWUKKXAylkYxxlPe4gx0',\n",
    "\n",
    "    )\n",
    ")\n",
    "    save(audio, \"audio.mp3\")\n",
    "    temp_audio = 'audio.mp3'\n",
    "    response = cloudinary.uploader.upload(temp_audio,\n",
    "                                            resource_type=\"video\",\n",
    "                                            upload_preset=\"e4rpkaay\")\n",
    "    print('Audio uploaded to Cloudinary:', response['secure_url'])\n",
    "    return response['secure_url']\n",
    " \n",
    "\n",
    " \n",
    "audio_url = upload_to_cloudinary('audio.mp3')\n"
   ]
  },
  {
   "cell_type": "code",
   "execution_count": 18,
   "metadata": {},
   "outputs": [
    {
     "data": {
      "text/plain": [
       "<cloudinary.Config at 0x1206c7d60>"
      ]
     },
     "execution_count": 18,
     "metadata": {},
     "output_type": "execute_result"
    }
   ],
   "source": [
    "cloudinary.config(\n",
    "    cloud_name = \"dqclsnpy9\",\n",
    "    api_secret=\"D5XBfV_IqZUbvv-2Ho7y0kMLQfk\",\n",
    "    api_key=\"516196861248399\"\n",
    ")"
   ]
  },
  {
   "cell_type": "code",
   "execution_count": null,
   "metadata": {},
   "outputs": [],
   "source": []
  }
 ],
 "metadata": {
  "kernelspec": {
   "display_name": "Python 3",
   "language": "python",
   "name": "python3"
  },
  "language_info": {
   "codemirror_mode": {
    "name": "ipython",
    "version": 3
   },
   "file_extension": ".py",
   "mimetype": "text/x-python",
   "name": "python",
   "nbconvert_exporter": "python",
   "pygments_lexer": "ipython3",
   "version": "3.9.6"
  }
 },
 "nbformat": 4,
 "nbformat_minor": 2
}
