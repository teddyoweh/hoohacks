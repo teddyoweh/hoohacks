{
 "cells": [
  {
   "cell_type": "code",
   "execution_count": null,
   "metadata": {},
   "outputs": [],
   "source": [
    "!python3 start.py"
   ]
  },
  {
   "cell_type": "code",
   "execution_count": null,
   "metadata": {},
   "outputs": [],
   "source": [
    "from elevenlabs.client import ElevenLabs\n",
    "import cloudinary.uploader\n",
    "import requests\n",
    "from tempfile import NamedTemporaryFile"
   ]
  },
  {
   "cell_type": "code",
   "execution_count": 4,
   "metadata": {},
   "outputs": [
    {
     "name": "stdout",
     "output_type": "stream",
     "text": [
      " * Serving Flask app 'app'\n",
      " * Debug mode: on\n",
      "\u001b[31m\u001b[1mWARNING: This is a development server. Do not use it in a production deployment. Use a production WSGI server instead.\u001b[0m\n",
      " * Running on all addresses (0.0.0.0)\n",
      " * Running on http://127.0.0.1:5555\n",
      " * Running on http://10.144.38.104:5555\n",
      "\u001b[33mPress CTRL+C to quit\u001b[0m\n",
      " * Restarting with stat\n",
      " * Debugger is active!\n",
      " * Debugger PIN: 747-478-398\n",
      "this is req bo {'uri': 'http://res.cloudinary.com/dqclsnpy9/image/upload/v1711301980/lhzsli33bnmt4p5pcexx.jpg'}\n",
      "/Users/teddyoweh/Library/Python/3.9/lib/python/site-packages/transformers/generation/utils.py:1260: UserWarning: Using the model-agnostic default `max_length` (=20) to control the generation length. We recommend setting `max_new_tokens` to control the maximum length of the generation.\n",
      "  warnings.warn(\n",
      "{'type': 'recyclable', 'why': 'Because this is made of PET plastic, which is widely accepted in curbside recycling programs.', 'impact': \"Alright, let's talk about this Sprite soda bottle you're eyeballing. Made from PET plastic, right? It's recyclable, and thank goodness for that. By tossing it into the recycling bin rather than the trash, we're cutting down on waste and giving this bottle a shot at a dazzling second act. Recycling PET slashes greenhouse gas emissions and saves energy - it's like giving the planet a little high five. Plus, recycling plastic bottles can feel as refreshing as cracking open a cold one on a hot day.\", 'point': 8, 'CO2 Saved': 7, 'description': 'Sprite soda PET bottle', 'Energy Saved': 7, 'Water Saved': 4, 'Trees Saved': 0, 'rewards': ['Carbon Cutter', 'Energy Saver']}\n",
      "Generating audio for: Alright, let's talk about this Sprite soda bottle you're eyeballing. Made from PET plastic, right? It's recyclable, and thank goodness for that. By tossing it into the recycling bin rather than the trash, we're cutting down on waste and giving this bottle a shot at a dazzling second act. Recycling PET slashes greenhouse gas emissions and saves energy - it's like giving the planet a little high five. Plus, recycling plastic bottles can feel as refreshing as cracking open a cold one on a hot day.\n",
      "Audio uploaded to Cloudinary: https://res.cloudinary.com/dqclsnpy9/video/upload/v1711302001/s9rsjr10ev9syhaykpht.mp3\n",
      "127.0.0.1 - - [24/Mar/2024 13:40:01] \"POST /scanimg HTTP/1.1\" 200 -\n",
      "this is req bo {'uri': 'http://res.cloudinary.com/dqclsnpy9/image/upload/v1711302124/o9joypktcyftfbb3ner7.jpg'}\n",
      "/Users/teddyoweh/Library/Python/3.9/lib/python/site-packages/transformers/generation/utils.py:1260: UserWarning: Using the model-agnostic default `max_length` (=20) to control the generation length. We recommend setting `max_new_tokens` to control the maximum length of the generation.\n",
      "  warnings.warn(\n",
      "{'type': 'recyclable', 'why': \"Because it's made from plastic, specifically PET which is widely accepted in recycling programs.\", 'impact': \"Okay, so we're talking about a plastic Sprite bottle, right? These guys are pretty common but don't let that fool you - recycling them is a big deal. By choosing to recycle, you're basically helping cut down on new plastic production, which is a huge win for the environment. Um, imagine all the energy and resources saved just by giving this bottle a second life. And hey, reducing plastic waste means less of it ending up in our oceans or landfills. So, next time you toss one of these into the recycling bin, give yourself a little pat on the back, you're doing great!\", 'point': 8, 'CO2 Saved': 3, 'description': 'Plastic Sprite bottle', 'Energy Saved': 6, 'Water Saved': 2, 'Trees Saved': 0, 'rewards': ['Ocean Defender', 'Energy Saver']}\n",
      "Generating audio for: Okay, so we're talking about a plastic Sprite bottle, right? These guys are pretty common but don't let that fool you - recycling them is a big deal. By choosing to recycle, you're basically helping cut down on new plastic production, which is a huge win for the environment. Um, imagine all the energy and resources saved just by giving this bottle a second life. And hey, reducing plastic waste means less of it ending up in our oceans or landfills. So, next time you toss one of these into the recycling bin, give yourself a little pat on the back, you're doing great!\n",
      "Audio uploaded to Cloudinary: https://res.cloudinary.com/dqclsnpy9/video/upload/v1711302150/y5k4yyncsj3fiwecvltj.mp3\n",
      "127.0.0.1 - - [24/Mar/2024 13:42:31] \"POST /scanimg HTTP/1.1\" 200 -\n",
      "this is req bo {'uri': 'http://res.cloudinary.com/dqclsnpy9/image/upload/v1711302190/swm4pqekz5aqeid40dsu.jpg'}\n",
      "{'type': 'recyclable', 'why': \"So, let's talk about this close-up shot of a Sprite soda bottle chilling on a white surface. First thing's first: this little guy is recyclable. Yep, you heard it right. Plastic bottles, especially those like our friend here made from PET or No.1 plastic, are generally greeted with open arms by recycling facilities.\", 'impact': \"You know, recycling a plastic bottle like this Sprite one isn't just about giving it a new lease on life; it's about cutting down on our environmental footprint. Each time we recycle, we're like environmental ninjas, slashing CO2 emissions, conserving energy, saving water, and sparing trees. It's kind of a big deal, actually. Lol, think of it as turning trash into treasure, or more like turning bottles into benches, or something equally awesome. By recycling, you're part of the squad fighting against pollution and climate change. Cool, right?\", 'point': 8, 'CO2 Saved': 7, 'description': 'Plastic Sprite soda bottle.', 'Energy Saved': 7, 'Water Saved': 6, 'Trees Saved': 0, 'rewards': ['Carbon Cutter', 'Energy Eraser']}\n",
      "Generating audio for: You know, recycling a plastic bottle like this Sprite one isn't just about giving it a new lease on life; it's about cutting down on our environmental footprint. Each time we recycle, we're like environmental ninjas, slashing CO2 emissions, conserving energy, saving water, and sparing trees. It's kind of a big deal, actually. Lol, think of it as turning trash into treasure, or more like turning bottles into benches, or something equally awesome. By recycling, you're part of the squad fighting against pollution and climate change. Cool, right?\n",
      "Audio uploaded to Cloudinary: https://res.cloudinary.com/dqclsnpy9/video/upload/v1711302216/wxsnfwgun1bubo3c7pk4.mp3\n",
      "127.0.0.1 - - [24/Mar/2024 13:43:36] \"POST /scanimg HTTP/1.1\" 200 -\n",
      "this is req bo {'uri': 'http://res.cloudinary.com/dqclsnpy9/image/upload/v1711302365/pdihyhcmefwiou2qynlm.jpg'}\n",
      "{'type': 'compostable', 'why': 'Umm, let’s talk pizza boxes, you know, the cardboard kind, with a greasy spot and a slice missing because who can wait, right? Alright, these boxes are often compostable because the food residue complicates recycling processes. However, the clean parts can be recycled. It’s kinda like picking teams; the clean parts go to Team Recycling, and the greasy parts head over to Team Compost.', 'impact': \"So, this pizza box, right? It's pretty much an icon of our Friday nights. Making it compostable, especially the greasy parts, helps us say adios to methane emissions from landfills. That’s crucial because methane is like, um, a superhero villain for the climate. Composting this bad boy can help reduce that. So yeah, not only did you save some pizza for later, but you're also saving the planet. Just imagine turning your pizza box into compost, and it's like giving the Earth a lil’ high five.\", 'point': 7, 'CO2 Saved': 2, 'description': 'Greasy pizza box, partially eaten', 'Energy Saved': 3, 'Water Saved': 2, 'Trees Saved': 1, 'rewards': ['Methane Fighter', 'Earth’s High Fiver']}\n",
      "Generating audio for: So, this pizza box, right? It's pretty much an icon of our Friday nights. Making it compostable, especially the greasy parts, helps us say adios to methane emissions from landfills. That’s crucial because methane is like, um, a superhero villain for the climate. Composting this bad boy can help reduce that. So yeah, not only did you save some pizza for later, but you're also saving the planet. Just imagine turning your pizza box into compost, and it's like giving the Earth a lil’ high five.\n",
      "Audio uploaded to Cloudinary: https://res.cloudinary.com/dqclsnpy9/video/upload/v1711302389/lndhkhyfcaf7inzkodwz.mp3\n",
      "127.0.0.1 - - [24/Mar/2024 13:46:29] \"POST /scanimg HTTP/1.1\" 200 -\n",
      "this is req bo {'uri': 'http://res.cloudinary.com/dqclsnpy9/image/upload/v1711303186/juhrdrustscz2anfq1xg.jpg'}\n",
      "{'type': 'recyclable', 'why': \"Alright, so we're looking at a bottle of Sprite, right? These are typically made from PET plastic, which is pretty much a superhero in the recycling world. PET plastic is highly recyclable, and tossing it into the recycling bin is like giving it a second chance at life, so to speak. Just make sure to rinse it out first - nobody wants sticky recycling bins.\", 'impact': \"Okay, so here's the deal with PET plastic bottles: they're kind of a big deal when it comes to recycling. By recycling a plastic bottle, we're not just keeping it out of the ocean or landfill where it can do some harm, but we're also reducing the need to produce new plastic. This means less fossil fuel used, and fewer carbon emissions. Imagine every recycled bottle as a tiny warrior fighting against climate change. Plus, it saves energy and resources. Pretty heroic, huh?\", 'point': '8', 'CO2 Saved': 3, 'description': 'Clear soda PET bottle', 'Energy Saved': 7, 'Water Saved': 5, 'Trees Saved': 0, 'rewards': ['Carbon Crusader', 'Plastic Paladin']}\n",
      "Generating audio for: Okay, so here's the deal with PET plastic bottles: they're kind of a big deal when it comes to recycling. By recycling a plastic bottle, we're not just keeping it out of the ocean or landfill where it can do some harm, but we're also reducing the need to produce new plastic. This means less fossil fuel used, and fewer carbon emissions. Imagine every recycled bottle as a tiny warrior fighting against climate change. Plus, it saves energy and resources. Pretty heroic, huh?\n",
      "Audio uploaded to Cloudinary: https://res.cloudinary.com/dqclsnpy9/video/upload/v1711303216/jyq6wqslut5s0d9vfan5.mp3\n",
      "127.0.0.1 - - [24/Mar/2024 14:00:17] \"POST /scanimg HTTP/1.1\" 200 -\n",
      "this is req bo {'uri': 'http://res.cloudinary.com/dqclsnpy9/image/upload/v1711303262/uqlfoouhjcoe8rmmyhls.jpg'}\n",
      "{'type': 'compostable', 'why': 'The pizza itself is compostable, although the greasy box may not be ideal for some recycling facilities. However, many compost programs accept pizza boxes that have been tainted with food or grease, breaking them down into nutritious compost.', 'impact': \"Okay, so here we have a classic case of a pizza in a box with a slice mysteriously missing. Now, the pizza itself, definitely compostable. Worms in your compost bin will throw a party for this addition. However, the box, now that's where people trip up. While you can't toss it into the regular recycling bin due to the grease – sigh, yes, that ruins the paper recycling party – it can join the compost heap. This whole process reduces landfill waste, and composting it turns it into gold for your garden, not literally, of course, but your plants will thank you. Saving on waste and potentially reducing methane emissions from landfills gives composting a thumbs up in the environmental impact department.\", 'point': 7, 'CO2 Saved': 4, 'description': 'Partly eaten pizza in box', 'Energy Saved': 3, 'Water Saved': 2, 'Trees Saved': 6, 'rewards': ['Worm Feast Provider', 'Garden Gold Creator']}\n",
      "Generating audio for: Okay, so here we have a classic case of a pizza in a box with a slice mysteriously missing. Now, the pizza itself, definitely compostable. Worms in your compost bin will throw a party for this addition. However, the box, now that's where people trip up. While you can't toss it into the regular recycling bin due to the grease – sigh, yes, that ruins the paper recycling party – it can join the compost heap. This whole process reduces landfill waste, and composting it turns it into gold for your garden, not literally, of course, but your plants will thank you. Saving on waste and potentially reducing methane emissions from landfills gives composting a thumbs up in the environmental impact department.\n",
      "Audio uploaded to Cloudinary: https://res.cloudinary.com/dqclsnpy9/video/upload/v1711303319/sadnfkdpnhh4tx9uenel.mp3\n",
      "127.0.0.1 - - [24/Mar/2024 14:02:00] \"POST /scanimg HTTP/1.1\" 200 -\n",
      "this is req bo {'uri': 'http://res.cloudinary.com/dqclsnpy9/image/upload/v1711303333/ovfo5e2vcfzvuch1atc7.jpg'}\n",
      "{'type': 'compostable', 'why': \"The pizza itself is compostable because it's organic waste, but the box, if it has grease and food residue, it's better off composted too, versus recycling. Not all facilities accept greasy pizza boxes for recycling because the oils and residue can contaminate the recycling process.\", 'impact': \"Alright, umm, let's talk pizza boxes, folks. You've just demolished a delicious pizza and you're left staring at the box, thinking, 'What now?' Well, if that box looks like it's been in a grease wrestling match, it's compostable! By composting, you're contributing to a cycle that brings nutrients back to earth, um, supporting soil health and reducing methane emissions from landfills. Now, isn't that better than just trashing it? Plus, you get to feel like an eco-warrior without having to wear a cape. Who knew pizza night could be so environmentally friendly?\", 'point': 7, 'CO2 Saved': 5, 'description': 'Greasy pizza box, slightly used', 'Energy Saved': 6, 'Water Saved': 4, 'Trees Saved': 3, 'rewards': ['Methane Fighter', 'Soil Superhero']}\n",
      "Generating audio for: Alright, umm, let's talk pizza boxes, folks. You've just demolished a delicious pizza and you're left staring at the box, thinking, 'What now?' Well, if that box looks like it's been in a grease wrestling match, it's compostable! By composting, you're contributing to a cycle that brings nutrients back to earth, um, supporting soil health and reducing methane emissions from landfills. Now, isn't that better than just trashing it? Plus, you get to feel like an eco-warrior without having to wear a cape. Who knew pizza night could be so environmentally friendly?\n",
      "Audio uploaded to Cloudinary: https://res.cloudinary.com/dqclsnpy9/video/upload/v1711303369/ihk6etfzfcfbyr3f0on7.mp3\n",
      "127.0.0.1 - - [24/Mar/2024 14:02:50] \"POST /scanimg HTTP/1.1\" 200 -\n",
      "this is req bo {'uri': 'http://res.cloudinary.com/dqclsnpy9/image/upload/v1711304016/jwodhptcbrdvjlwoduag.jpg'}\n",
      "{'type': 'recyclable', 'why': 'Because it is made of plastic, specifically PET, which is widely accepted in recycling programs.', 'impact': \"Alright, let's dive into the world of a Sprite soda bottle, shall we? These little guys, made of PET plastic, are practically begging to be recycled. When you toss one of these into the recycling bin, you are essentially giving it a second chance at life, maybe as a new bottle or even clothing! The environmental benefits are no joke - less plastic in landfills, reduced need for virgin materials, and oh, let's not forget, a major thumbs up from Mother Nature. Recycling a plastic bottle can save an impressive amount of resources, which is kinda like turning water into... well, Sprite, environmentally speaking.\", 'point': 8, 'CO2 Saved': 8, 'description': 'Clear PET soda bottle.', 'Energy Saved': 7, 'Water Saved': 6, 'Trees Saved': 0, 'rewards': ['Carbon Cutter', 'Energy Saver']}\n",
      "Generating audio for: Alright, let's dive into the world of a Sprite soda bottle, shall we? These little guys, made of PET plastic, are practically begging to be recycled. When you toss one of these into the recycling bin, you are essentially giving it a second chance at life, maybe as a new bottle or even clothing! The environmental benefits are no joke - less plastic in landfills, reduced need for virgin materials, and oh, let's not forget, a major thumbs up from Mother Nature. Recycling a plastic bottle can save an impressive amount of resources, which is kinda like turning water into... well, Sprite, environmentally speaking.\n",
      "Audio uploaded to Cloudinary: https://res.cloudinary.com/dqclsnpy9/video/upload/v1711304041/bhv3yvbgvjhp9jcofpxe.mp3\n",
      "127.0.0.1 - - [24/Mar/2024 14:14:02] \"POST /scanimg HTTP/1.1\" 200 -\n",
      "this is req bo {'uri': 'http://res.cloudinary.com/dqclsnpy9/image/upload/v1711304341/zgnsucsc3hyy0dg7dmsr.jpg'}\n",
      "{'type': 'recyclable', 'why': 'Plastic Sprite bottles are commonly made from PET (Polyethylene Terephthalate), which is widely accepted in recycling programs.', 'impact': \"Okay, so we're talking about a classic plastic Sprite bottle here, right? First off, these babies are recyclable, which is awesome. By choosing to recycle them, you're playing a nifty role in reducing the demand for new plastic. Not to make you blush, but that's kind of a big deal in the grand scheme of things. Every time you toss a Sprite bottle into the recycling bin instead of the trash, you're basically giving Mother Nature a high-five. The manufacturing of PET is energy-intensive and contributes to carbon emissions, but recycling can significantly reduce this impact. So, let's keep those bottles spinning in the recycling loop, and we can all sip on our sodas feeling a tad more righteous.\", 'point': 7, 'CO2 Saved': 2, 'description': 'Plastic Sprite soda bottle', 'Energy Saved': 3, 'Water Saved': 2, 'Trees Saved': 0, 'rewards': ['Planet Cooler', 'PET Whisperer']}\n",
      "Generating audio for: Okay, so we're talking about a classic plastic Sprite bottle here, right? First off, these babies are recyclable, which is awesome. By choosing to recycle them, you're playing a nifty role in reducing the demand for new plastic. Not to make you blush, but that's kind of a big deal in the grand scheme of things. Every time you toss a Sprite bottle into the recycling bin instead of the trash, you're basically giving Mother Nature a high-five. The manufacturing of PET is energy-intensive and contributes to carbon emissions, but recycling can significantly reduce this impact. So, let's keep those bottles spinning in the recycling loop, and we can all sip on our sodas feeling a tad more righteous.\n",
      "Failed to generate and upload audio to Cloudinary: status_code: 401, body: {'detail': {'status': 'quota_exceeded', 'message': 'This request exceeds your quota. You have 12 characters remaining, while 701 characters are required for this request.', 'character_used': 100737, 'character_limit': 100048}}\n",
      "127.0.0.1 - - [24/Mar/2024 14:19:18] \"POST /scanimg HTTP/1.1\" 200 -\n",
      "this is req bo {'uri': 'http://res.cloudinary.com/dqclsnpy9/image/upload/v1711304406/xdexuoa360tmwlbl77bw.jpg'}\n",
      "{'type': 'compostable', 'why': \"Okay, so we're looking at a pizza box with a slice missing. First things first, if the box isn't soaked in oil and grease, it could technically be recyclable. But, umm, let’s be real, when is a pizza box ever not a greasy mess after it’s done its job? So, uh, more often than not, we're gonna lean towards compostable here.\", 'impact': \"So, this pizza box, right? By composting it, we're doing a solid for the environment by reducing waste and enhancing soil health. Imagine turning your pizza party leftovers into a garden’s feast—pretty cool, huh? Composting this greasy fella limits methane emissions from landfills and contributes to a healthier planet. So yeah, every composted box counts!\", 'point': 7, 'CO2 Saved': 2, 'description': 'Greasy pizza box, mostly empty', 'Energy Saved': 3, 'Water Saved': 2, 'Trees Saved': 4, 'rewards': ['Soil Booster', 'Methane Fighter']}\n",
      "Generating audio for: So, this pizza box, right? By composting it, we're doing a solid for the environment by reducing waste and enhancing soil health. Imagine turning your pizza party leftovers into a garden’s feast—pretty cool, huh? Composting this greasy fella limits methane emissions from landfills and contributes to a healthier planet. So yeah, every composted box counts!\n",
      "Failed to generate and upload audio to Cloudinary: status_code: 401, body: {'detail': {'status': 'quota_exceeded', 'message': 'This request exceeds your quota. You have 12 characters remaining, while 357 characters are required for this request.', 'character_used': 100393, 'character_limit': 100048}}\n",
      "127.0.0.1 - - [24/Mar/2024 14:20:24] \"POST /scanimg HTTP/1.1\" 200 -\n",
      "this is req bo {'uri': 'http://res.cloudinary.com/dqclsnpy9/image/upload/v1711305095/vtxcucxanxyzdvmxpkah.jpg'}\n",
      "{'type': 'recyclable', 'why': 'Most soda bottles are made from PET plastic, which is widely accepted in recycling programs.', 'impact': \"Ah, soda bottles, the epitome of our grab-and-go culture, right? Those shiny, sleek containers of sugary delight. Well, here's the not-so-sweet truth: when recycled, these bottles can really make a positive dent in the environment. They're made from PET plastic - yeah, that's polyethylene terephthalate, if you want to get fancy. Recycling them reduces the demand for new plastic, which is awesome because manufacturing new plastic is kinda like inviting pollution to a party - it just shows up in droves. Plus, recycling them saves energy and reduces greenhouse gas emissions, which means less of the 'hot head' Earth and more of the 'cool as a cucumber' Earth. And let's be real, who doesn't want a chill planet?\", 'point': 7, 'CO2 Saved': 7, 'description': 'Transparent PET soda bottle', 'Energy Saved': 7, 'Water Saved': 6, 'Trees Saved': 0, 'rewards': ['Carbon Cutter', 'Energy Saver']}\n",
      "Generating audio for: Ah, soda bottles, the epitome of our grab-and-go culture, right? Those shiny, sleek containers of sugary delight. Well, here's the not-so-sweet truth: when recycled, these bottles can really make a positive dent in the environment. They're made from PET plastic - yeah, that's polyethylene terephthalate, if you want to get fancy. Recycling them reduces the demand for new plastic, which is awesome because manufacturing new plastic is kinda like inviting pollution to a party - it just shows up in droves. Plus, recycling them saves energy and reduces greenhouse gas emissions, which means less of the 'hot head' Earth and more of the 'cool as a cucumber' Earth. And let's be real, who doesn't want a chill planet?\n",
      "Failed to generate and upload audio to Cloudinary: status_code: 401, body: {'detail': {'status': 'quota_exceeded', 'message': 'This request exceeds your quota. You have 12 characters remaining, while 715 characters are required for this request.', 'character_used': 100751, 'character_limit': 100048}}\n",
      "127.0.0.1 - - [24/Mar/2024 14:32:00] \"POST /scanimg HTTP/1.1\" 200 -\n",
      "this is req bo {'uri': 'http://res.cloudinary.com/dqclsnpy9/image/upload/v1711305137/gsjgidn9y6f2fx3ikt7d.jpg'}\n",
      "{'type': 'recyclable', 'why': \"So, um, starting with what we've got here, it's a bottle of Sprite, folks. Pretty iconic, right? And guess what? It's recyclable! Yeah, that's right. Most soda bottles are made from PET plastic, which is a thumbs up in the recycling world.\", 'impact': \"Okay, let's dive into why recycling this fizzy friend matters. So, plastic bottles, like our Sprite bottle here, they're kind of everywhere, right? When recycled, they can significantly reduce the need for new plastic, which is a big win for reducing oil consumption and minimizing landfill growth. But here's the kicker: not recycling them? It's like telling Mother Nature, 'Eh, I could help, but I won’t.' Recycling helps cut down on pollution and energy use. It’s like giving Earth a little 'thank you' note every time.\", 'point': '8', 'CO2 Saved': 7, 'description': 'Sprite plastic bottle', 'Energy Saved': 6, 'Water Saved': 5, 'Trees Saved': 0, 'rewards': ['Ocean Protector', 'Green Warrior']}\n",
      "Generating audio for: Okay, let's dive into why recycling this fizzy friend matters. So, plastic bottles, like our Sprite bottle here, they're kind of everywhere, right? When recycled, they can significantly reduce the need for new plastic, which is a big win for reducing oil consumption and minimizing landfill growth. But here's the kicker: not recycling them? It's like telling Mother Nature, 'Eh, I could help, but I won’t.' Recycling helps cut down on pollution and energy use. It’s like giving Earth a little 'thank you' note every time.\n",
      "Failed to generate and upload audio to Cloudinary: status_code: 401, body: {'detail': {'status': 'quota_exceeded', 'message': 'This request exceeds your quota. You have 12 characters remaining, while 522 characters are required for this request.', 'character_used': 100558, 'character_limit': 100048}}\n",
      "127.0.0.1 - - [24/Mar/2024 14:32:34] \"POST /scanimg HTTP/1.1\" 200 -\n",
      "this is req bo {'uri': 'http://res.cloudinary.com/dqclsnpy9/image/upload/v1711305721/gqsc9eqkzscmlsrhvcrk.jpg'}\n",
      "{'type': 'compostable', 'why': 'The pizza box, often soiled by grease and food residues, is not suitable for recycling but can be composted if your local facility accepts contaminated paper products.', 'impact': \"Okay, so we've got this pizza box, right? A pretty common item after a cozy night in. While we can't recycle it due to the grease – Mother Nature isn't a fan of that – it's compostable. Composting it reduces methane emissions from landfills and turns it into something useful like compost, which can nourish the soil. It's like turning your pizza party leftovers into a garden party for plants. Pretty cool, huh? Recycling a pristine paper product would save more energy and resources, but composting this baby still does a solid for the planet.\", 'point': 7, 'CO2 Saved': 3, 'description': 'Soiled pizza box, compost it.', 'Energy Saved': 2, 'Water Saved': 3, 'Trees Saved': 4, 'rewards': ['Compost Champion', 'Soil Hero']}\n",
      "Generating audio for: Okay, so we've got this pizza box, right? A pretty common item after a cozy night in. While we can't recycle it due to the grease – Mother Nature isn't a fan of that – it's compostable. Composting it reduces methane emissions from landfills and turns it into something useful like compost, which can nourish the soil. It's like turning your pizza party leftovers into a garden party for plants. Pretty cool, huh? Recycling a pristine paper product would save more energy and resources, but composting this baby still does a solid for the planet.\n",
      "Failed to generate and upload audio to Cloudinary: status_code: 401, body: {'detail': {'status': 'quota_exceeded', 'message': 'This request exceeds your quota. You have 12 characters remaining, while 545 characters are required for this request.', 'character_used': 100581, 'character_limit': 100048}}\n",
      "127.0.0.1 - - [24/Mar/2024 14:42:23] \"POST /scanimg HTTP/1.1\" 200 -\n",
      "this is req bo {'uri': 'http://res.cloudinary.com/dqclsnpy9/image/upload/v1711305794/jkqje7oerg8ebzu6ogf9.jpg'}\n",
      "{'type': 'recyclable', 'why': \"Because it's made of PET plastic, a commonly recycled material.\", 'impact': \"Alright, so we've got ourselves a classic Sprite soda bottle here. Now, this little guy is indeed recyclable, thank heavens. Recycling plastic bottles like this one plays a huge part in cutting down waste and conserving resources. When you toss this bottle into the recycling bin instead of the trash, you're basically giving it another shot at life, potentially turning it into new products. I mean, who wouldn't want to be a hero just by recycling, right? It's like saving the planet one sip at a time. Plus, considering the energy and resources used to produce these bottles, recycling them significantly reduces their environmental footprint.\", 'point': '8', 'CO2 Saved': 5, 'description': 'Plastic Sprite soda bottle.', 'Energy Saved': 7, 'Water Saved': 3, 'Trees Saved': 0, 'rewards': ['Plastic Hero', 'Bottle Reincarnator']}\n",
      "Generating audio for: Alright, so we've got ourselves a classic Sprite soda bottle here. Now, this little guy is indeed recyclable, thank heavens. Recycling plastic bottles like this one plays a huge part in cutting down waste and conserving resources. When you toss this bottle into the recycling bin instead of the trash, you're basically giving it another shot at life, potentially turning it into new products. I mean, who wouldn't want to be a hero just by recycling, right? It's like saving the planet one sip at a time. Plus, considering the energy and resources used to produce these bottles, recycling them significantly reduces their environmental footprint.\n",
      "Failed to generate and upload audio to Cloudinary: status_code: 401, body: {'detail': {'status': 'quota_exceeded', 'message': 'This request exceeds your quota. You have 12 characters remaining, while 646 characters are required for this request.', 'character_used': 100682, 'character_limit': 100048}}\n",
      "127.0.0.1 - - [24/Mar/2024 14:43:30] \"POST /scanimg HTTP/1.1\" 200 -\n"
     ]
    }
   ],
   "source": [
    "!python3 run.py"
   ]
  },
  {
   "cell_type": "code",
   "execution_count": null,
   "metadata": {},
   "outputs": [],
   "source": [
    "http://127.0.0.1:5555/scanImg\n",
    "http://127.0.0.1:5555/scanImg"
   ]
  }
 ],
 "metadata": {
  "kernelspec": {
   "display_name": "Python 3",
   "language": "python",
   "name": "python3"
  },
  "language_info": {
   "codemirror_mode": {
    "name": "ipython",
    "version": 3
   },
   "file_extension": ".py",
   "mimetype": "text/x-python",
   "name": "python",
   "nbconvert_exporter": "python",
   "pygments_lexer": "ipython3",
   "version": "3.9.6"
  }
 },
 "nbformat": 4,
 "nbformat_minor": 2
}
