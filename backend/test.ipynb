{
 "cells": [
  {
   "cell_type": "code",
   "execution_count": null,
   "metadata": {},
   "outputs": [],
   "source": [
    "import requests\n",
    "from PIL import Image\n",
    "from transformers import BlipProcessor, BlipForConditionalGeneration\n",
    "\n",
    "processor = BlipProcessor.from_pretrained(\"Salesforce/blip-image-captioning-large\")\n",
    "model = BlipForConditionalGeneration.from_pretrained(\"Salesforce/blip-image-captioning-large\")\n",
    "\n",
    "\n"
   ]
  },
  {
   "cell_type": "code",
   "execution_count": null,
   "metadata": {},
   "outputs": [],
   "source": [
    "\n",
    "def run_inference(image_path,is_url=False):\n",
    "    if is_url:\n",
    "        image = Image.open(requests.get(image_path, stream=True).raw)\n",
    "    else:\n",
    "        image = Image.open(image_path)\n",
    "    inputs = processor(image, return_tensors=\"pt\")\n",
    "    caption = model.generate(**inputs)\n",
    "    return processor.decode(caption[0], skip_special_tokens=True)"
   ]
  },
  {
   "cell_type": "code",
   "execution_count": null,
   "metadata": {},
   "outputs": [],
   "source": [
    "input = run_inference(\"real.jpeg\")\n",
    "\n",
    "import requests\n",
    "import os \n",
    "import json\n",
    "import openai\n",
    "\n",
    "# Set the OpenAI API key using the value stored in the \"OPENAI_API_KEY\" environment variable.\n",
    "openai.api_key = os.getenv(\"OPENAI_API_KEY\")\n",
    "\n",
    "\n",
    "def classifier (kini):\n",
    "\n",
    "    prompt = \"\"\"Based on the given inference/caption from the picture decide whether or not the item in the image is recyclable or compostable, it has to be recyclable or compostable- make it in json format\n",
    "    eg : \n",
    "    \n",
    "    {\"recyclable\": \"\", \"compostable\": \"\",\"why\": \"\",\"impact\":'',point;}\n",
    "    ,\"\"\"+kini    \n",
    "\n",
    "    openai_key = os.getenv('openai_key')\n",
    "    openai.api_key= openai_key\n",
    "    response = openai.ChatCompletion.create(\n",
    "    model=\"gpt-4-0125-preview\",\n",
    "    response_format={ \"type\": \"json_object\" },\n",
    "    messages=[\n",
    "        {\"role\": \"system\", \"content\": \"You are a recycling expert trying to help people recycle better.\"},\n",
    "        {\"role\": \"user\", \"content\": f\"this is the inference/caption {prompt}\"},])\n",
    "    return eval(response.choices[0].message['content'])"
   ]
  },
  {
   "cell_type": "code",
   "execution_count": null,
   "metadata": {},
   "outputs": [],
   "source": [
    "res = classifier(run_inference(\"https://res.cloudinary.com/dqclsnpy9/image/upload/v1711251130/whzrxljfxmi6ub6lgffs.jpg\",True))\n",
    "res"
   ]
  },
  {
   "cell_type": "code",
   "execution_count": null,
   "metadata": {},
   "outputs": [],
   "source": [
    "eval(res)"
   ]
  },
  {
   "cell_type": "code",
   "execution_count": null,
   "metadata": {},
   "outputs": [],
   "source": []
  },
  {
   "cell_type": "code",
   "execution_count": null,
   "metadata": {},
   "outputs": [],
   "source": [
    "from app.controllers.base import *"
   ]
  },
  {
   "cell_type": "code",
   "execution_count": null,
   "metadata": {},
   "outputs": [],
   "source": [
    "text =\"\"\"\n",
    "So, umm, the pizza box can be compostable, you know, because it's made of cardboard, which, uhh, decomposes pretty well. But, yeah, the thing is, it's only compostable if it's not too greasy or contaminated with food. As for the coffee cup, most of the time, they've got this thin plastic lining inside to keep the coffee from leaking, which kinda complicates things, making them not so recyclable in most places. But if you've got a compostable cup, then yeah, it could go into the compost bin\n",
    "\"\"\"\n",
    "generate_audio(text,\"Armando (realistic)\",'re.mp3')"
   ]
  },
  {
   "cell_type": "code",
   "execution_count": null,
   "metadata": {},
   "outputs": [],
   "source": [
    "elevenlabs_client1 = ElevenLabs(\n",
    "  api_key=\"32da7ece4e40e3a0958f92cc392f3f0f\",  \n",
    ")"
   ]
  },
  {
   "cell_type": "code",
   "execution_count": null,
   "metadata": {},
   "outputs": [],
   "source": [
    "res = elevenlabs_client1.generate(\n",
    "  text=\"Hello!\",\n",
    "  voice=\"Rachel\",\n",
    "  model=\"eleven_multilingual_v2\"\n",
    ")\n",
    "play(res)"
   ]
  },
  {
   "cell_type": "code",
   "execution_count": 1,
   "metadata": {},
   "outputs": [
    {
     "ename": "ValidationError",
     "evalue": "24 validation errors for ParsingModel[GetVoicesResponse]\n__root__ -> voices -> 46 -> sharing -> history_item_sample_id\n  none is not an allowed value (type=type_error.none.not_allowed)\n__root__ -> voices -> 46 -> sharing -> disable_at_unix\n  none is not an allowed value (type=type_error.none.not_allowed)\n__root__ -> voices -> 46 -> sharing -> instagram_username\n  none is not an allowed value (type=type_error.none.not_allowed)\n__root__ -> voices -> 46 -> sharing -> twitter_username\n  none is not an allowed value (type=type_error.none.not_allowed)\n__root__ -> voices -> 46 -> sharing -> youtube_username\n  none is not an allowed value (type=type_error.none.not_allowed)\n__root__ -> voices -> 46 -> sharing -> tiktok_username\n  none is not an allowed value (type=type_error.none.not_allowed)\n__root__ -> voices -> 46 -> sharing -> ban_reason\n  none is not an allowed value (type=type_error.none.not_allowed)\n__root__ -> voices -> 46 -> sharing -> review_message\n  none is not an allowed value (type=type_error.none.not_allowed)\n__root__ -> voices -> 47 -> sharing -> history_item_sample_id\n  none is not an allowed value (type=type_error.none.not_allowed)\n__root__ -> voices -> 47 -> sharing -> disable_at_unix\n  none is not an allowed value (type=type_error.none.not_allowed)\n__root__ -> voices -> 47 -> sharing -> instagram_username\n  none is not an allowed value (type=type_error.none.not_allowed)\n__root__ -> voices -> 47 -> sharing -> twitter_username\n  none is not an allowed value (type=type_error.none.not_allowed)\n__root__ -> voices -> 47 -> sharing -> youtube_username\n  none is not an allowed value (type=type_error.none.not_allowed)\n__root__ -> voices -> 47 -> sharing -> tiktok_username\n  none is not an allowed value (type=type_error.none.not_allowed)\n__root__ -> voices -> 47 -> sharing -> ban_reason\n  none is not an allowed value (type=type_error.none.not_allowed)\n__root__ -> voices -> 47 -> sharing -> review_message\n  none is not an allowed value (type=type_error.none.not_allowed)\n__root__ -> voices -> 48 -> sharing -> history_item_sample_id\n  none is not an allowed value (type=type_error.none.not_allowed)\n__root__ -> voices -> 48 -> sharing -> disable_at_unix\n  none is not an allowed value (type=type_error.none.not_allowed)\n__root__ -> voices -> 48 -> sharing -> instagram_username\n  none is not an allowed value (type=type_error.none.not_allowed)\n__root__ -> voices -> 48 -> sharing -> twitter_username\n  none is not an allowed value (type=type_error.none.not_allowed)\n__root__ -> voices -> 48 -> sharing -> youtube_username\n  none is not an allowed value (type=type_error.none.not_allowed)\n__root__ -> voices -> 48 -> sharing -> tiktok_username\n  none is not an allowed value (type=type_error.none.not_allowed)\n__root__ -> voices -> 48 -> sharing -> ban_reason\n  none is not an allowed value (type=type_error.none.not_allowed)\n__root__ -> voices -> 48 -> sharing -> review_message\n  none is not an allowed value (type=type_error.none.not_allowed)",
     "output_type": "error",
     "traceback": [
      "\u001b[0;31m---------------------------------------------------------------------------\u001b[0m",
      "\u001b[0;31mValidationError\u001b[0m                           Traceback (most recent call last)",
      "Cell \u001b[0;32mIn[1], line 8\u001b[0m\n\u001b[1;32m      2\u001b[0m \u001b[38;5;28;01mfrom\u001b[39;00m \u001b[38;5;21;01melevenlabs\u001b[39;00m\u001b[38;5;21;01m.\u001b[39;00m\u001b[38;5;21;01mclient\u001b[39;00m \u001b[38;5;28;01mimport\u001b[39;00m ElevenLabs\n\u001b[1;32m      4\u001b[0m client \u001b[38;5;241m=\u001b[39m ElevenLabs(\n\u001b[1;32m      5\u001b[0m   api_key\u001b[38;5;241m=\u001b[39m\u001b[38;5;124m\"\u001b[39m\u001b[38;5;124m32da7ece4e40e3a0958f92cc392f3f0f\u001b[39m\u001b[38;5;124m\"\u001b[39m, \u001b[38;5;66;03m# Defaults to ELEVEN_API_KEY\u001b[39;00m\n\u001b[1;32m      6\u001b[0m )\n\u001b[0;32m----> 8\u001b[0m audio \u001b[38;5;241m=\u001b[39m \u001b[43mclient\u001b[49m\u001b[38;5;241;43m.\u001b[39;49m\u001b[43mgenerate\u001b[49m\u001b[43m(\u001b[49m\n\u001b[1;32m      9\u001b[0m \u001b[43m  \u001b[49m\u001b[43mtext\u001b[49m\u001b[38;5;241;43m=\u001b[39;49m\u001b[38;5;124;43m\"\u001b[39;49m\u001b[38;5;124;43mHello! 你好! Hola! नमस्ते! Bonjour! こんにちは! مرحبا! 안녕하세요! Ciao! Cześć! Привіт! வணக்கம்!\u001b[39;49m\u001b[38;5;124;43m\"\u001b[39;49m\u001b[43m,\u001b[49m\n\u001b[1;32m     10\u001b[0m \u001b[43m  \u001b[49m\u001b[43mvoice\u001b[49m\u001b[38;5;241;43m=\u001b[39;49m\u001b[38;5;124;43m\"\u001b[39;49m\u001b[38;5;124;43mRachel\u001b[39;49m\u001b[38;5;124;43m\"\u001b[39;49m\u001b[43m,\u001b[49m\n\u001b[1;32m     11\u001b[0m \u001b[43m  \u001b[49m\u001b[43mmodel\u001b[49m\u001b[38;5;241;43m=\u001b[39;49m\u001b[38;5;124;43m\"\u001b[39;49m\u001b[38;5;124;43meleven_multilingual_v2\u001b[39;49m\u001b[38;5;124;43m\"\u001b[39;49m\n\u001b[1;32m     12\u001b[0m \u001b[43m)\u001b[49m\n\u001b[1;32m     13\u001b[0m play(audio)\n",
      "File \u001b[0;32m~/Library/Python/3.9/lib/python/site-packages/elevenlabs/client.py:179\u001b[0m, in \u001b[0;36mElevenLabs.generate\u001b[0;34m(self, text, voice, voice_settings, model, optimize_streaming_latency, stream, output_format, pronunciation_dictionary_locators, request_options)\u001b[0m\n\u001b[1;32m    177\u001b[0m     voice_id \u001b[38;5;241m=\u001b[39m voice\n\u001b[1;32m    178\u001b[0m \u001b[38;5;28;01melif\u001b[39;00m \u001b[38;5;28misinstance\u001b[39m(voice, \u001b[38;5;28mstr\u001b[39m):\n\u001b[0;32m--> 179\u001b[0m     voices_response \u001b[38;5;241m=\u001b[39m \u001b[38;5;28;43mself\u001b[39;49m\u001b[38;5;241;43m.\u001b[39;49m\u001b[43mvoices\u001b[49m\u001b[38;5;241;43m.\u001b[39;49m\u001b[43mget_all\u001b[49m\u001b[43m(\u001b[49m\u001b[43mrequest_options\u001b[49m\u001b[38;5;241;43m=\u001b[39;49m\u001b[43mrequest_options\u001b[49m\u001b[43m)\u001b[49m\n\u001b[1;32m    180\u001b[0m     \u001b[38;5;28mprint\u001b[39m(\u001b[38;5;124m\"\u001b[39m\u001b[38;5;124mvoices_response\u001b[39m\u001b[38;5;124m\"\u001b[39m, voices_response)\n\u001b[1;32m    181\u001b[0m     maybe_voice_id \u001b[38;5;241m=\u001b[39m \u001b[38;5;28mnext\u001b[39m((v\u001b[38;5;241m.\u001b[39mvoice_id \u001b[38;5;28;01mfor\u001b[39;00m v \u001b[38;5;129;01min\u001b[39;00m voices_response\u001b[38;5;241m.\u001b[39mvoices \u001b[38;5;28;01mif\u001b[39;00m v\u001b[38;5;241m.\u001b[39mname \u001b[38;5;241m==\u001b[39m voice), \u001b[38;5;28;01mNone\u001b[39;00m)\n",
      "File \u001b[0;32m~/Library/Python/3.9/lib/python/site-packages/elevenlabs/voices/client.py:69\u001b[0m, in \u001b[0;36mVoicesClient.get_all\u001b[0;34m(self, request_options)\u001b[0m\n\u001b[1;32m     48\u001b[0m _response \u001b[38;5;241m=\u001b[39m \u001b[38;5;28mself\u001b[39m\u001b[38;5;241m.\u001b[39m_client_wrapper\u001b[38;5;241m.\u001b[39mhttpx_client\u001b[38;5;241m.\u001b[39mrequest(\n\u001b[1;32m     49\u001b[0m     \u001b[38;5;124m\"\u001b[39m\u001b[38;5;124mGET\u001b[39m\u001b[38;5;124m\"\u001b[39m,\n\u001b[1;32m     50\u001b[0m     urllib\u001b[38;5;241m.\u001b[39mparse\u001b[38;5;241m.\u001b[39murljoin(\u001b[38;5;124mf\u001b[39m\u001b[38;5;124m\"\u001b[39m\u001b[38;5;132;01m{\u001b[39;00m\u001b[38;5;28mself\u001b[39m\u001b[38;5;241m.\u001b[39m_client_wrapper\u001b[38;5;241m.\u001b[39mget_base_url()\u001b[38;5;132;01m}\u001b[39;00m\u001b[38;5;124m/\u001b[39m\u001b[38;5;124m\"\u001b[39m, \u001b[38;5;124m\"\u001b[39m\u001b[38;5;124mv1/voices\u001b[39m\u001b[38;5;124m\"\u001b[39m),\n\u001b[0;32m   (...)\u001b[0m\n\u001b[1;32m     66\u001b[0m     max_retries\u001b[38;5;241m=\u001b[39mrequest_options\u001b[38;5;241m.\u001b[39mget(\u001b[38;5;124m\"\u001b[39m\u001b[38;5;124mmax_retries\u001b[39m\u001b[38;5;124m\"\u001b[39m) \u001b[38;5;28;01mif\u001b[39;00m request_options \u001b[38;5;129;01mis\u001b[39;00m \u001b[38;5;129;01mnot\u001b[39;00m \u001b[38;5;28;01mNone\u001b[39;00m \u001b[38;5;28;01melse\u001b[39;00m \u001b[38;5;241m0\u001b[39m,  \u001b[38;5;66;03m# type: ignore\u001b[39;00m\n\u001b[1;32m     67\u001b[0m )\n\u001b[1;32m     68\u001b[0m \u001b[38;5;28;01mif\u001b[39;00m \u001b[38;5;241m200\u001b[39m \u001b[38;5;241m<\u001b[39m\u001b[38;5;241m=\u001b[39m _response\u001b[38;5;241m.\u001b[39mstatus_code \u001b[38;5;241m<\u001b[39m \u001b[38;5;241m300\u001b[39m:\n\u001b[0;32m---> 69\u001b[0m     \u001b[38;5;28;01mreturn\u001b[39;00m \u001b[43mpydantic\u001b[49m\u001b[38;5;241;43m.\u001b[39;49m\u001b[43mparse_obj_as\u001b[49m\u001b[43m(\u001b[49m\u001b[43mGetVoicesResponse\u001b[49m\u001b[43m,\u001b[49m\u001b[43m \u001b[49m\u001b[43m_response\u001b[49m\u001b[38;5;241;43m.\u001b[39;49m\u001b[43mjson\u001b[49m\u001b[43m(\u001b[49m\u001b[43m)\u001b[49m\u001b[43m)\u001b[49m  \u001b[38;5;66;03m# type: ignore\u001b[39;00m\n\u001b[1;32m     70\u001b[0m \u001b[38;5;28;01mif\u001b[39;00m _response\u001b[38;5;241m.\u001b[39mstatus_code \u001b[38;5;241m==\u001b[39m \u001b[38;5;241m422\u001b[39m:\n\u001b[1;32m     71\u001b[0m     \u001b[38;5;28;01mraise\u001b[39;00m UnprocessableEntityError(pydantic\u001b[38;5;241m.\u001b[39mparse_obj_as(HttpValidationError, _response\u001b[38;5;241m.\u001b[39mjson()))  \u001b[38;5;66;03m# type: ignore\u001b[39;00m\n",
      "File \u001b[0;32m~/Library/Python/3.9/lib/python/site-packages/pydantic/v1/tools.py:38\u001b[0m, in \u001b[0;36mparse_obj_as\u001b[0;34m(type_, obj, type_name)\u001b[0m\n\u001b[1;32m     36\u001b[0m \u001b[38;5;28;01mdef\u001b[39;00m \u001b[38;5;21mparse_obj_as\u001b[39m(type_: Type[T], obj: Any, \u001b[38;5;241m*\u001b[39m, type_name: Optional[NameFactory] \u001b[38;5;241m=\u001b[39m \u001b[38;5;28;01mNone\u001b[39;00m) \u001b[38;5;241m-\u001b[39m\u001b[38;5;241m>\u001b[39m T:\n\u001b[1;32m     37\u001b[0m     model_type \u001b[38;5;241m=\u001b[39m _get_parsing_type(type_, type_name\u001b[38;5;241m=\u001b[39mtype_name)  \u001b[38;5;66;03m# type: ignore[arg-type]\u001b[39;00m\n\u001b[0;32m---> 38\u001b[0m     \u001b[38;5;28;01mreturn\u001b[39;00m \u001b[43mmodel_type\u001b[49m\u001b[43m(\u001b[49m\u001b[43m__root__\u001b[49m\u001b[38;5;241;43m=\u001b[39;49m\u001b[43mobj\u001b[49m\u001b[43m)\u001b[49m\u001b[38;5;241m.\u001b[39m__root__\n",
      "File \u001b[0;32m~/Library/Python/3.9/lib/python/site-packages/pydantic/v1/main.py:341\u001b[0m, in \u001b[0;36mBaseModel.__init__\u001b[0;34m(__pydantic_self__, **data)\u001b[0m\n\u001b[1;32m    339\u001b[0m values, fields_set, validation_error \u001b[38;5;241m=\u001b[39m validate_model(__pydantic_self__\u001b[38;5;241m.\u001b[39m\u001b[38;5;18m__class__\u001b[39m, data)\n\u001b[1;32m    340\u001b[0m \u001b[38;5;28;01mif\u001b[39;00m validation_error:\n\u001b[0;32m--> 341\u001b[0m     \u001b[38;5;28;01mraise\u001b[39;00m validation_error\n\u001b[1;32m    342\u001b[0m \u001b[38;5;28;01mtry\u001b[39;00m:\n\u001b[1;32m    343\u001b[0m     object_setattr(__pydantic_self__, \u001b[38;5;124m'\u001b[39m\u001b[38;5;124m__dict__\u001b[39m\u001b[38;5;124m'\u001b[39m, values)\n",
      "\u001b[0;31mValidationError\u001b[0m: 24 validation errors for ParsingModel[GetVoicesResponse]\n__root__ -> voices -> 46 -> sharing -> history_item_sample_id\n  none is not an allowed value (type=type_error.none.not_allowed)\n__root__ -> voices -> 46 -> sharing -> disable_at_unix\n  none is not an allowed value (type=type_error.none.not_allowed)\n__root__ -> voices -> 46 -> sharing -> instagram_username\n  none is not an allowed value (type=type_error.none.not_allowed)\n__root__ -> voices -> 46 -> sharing -> twitter_username\n  none is not an allowed value (type=type_error.none.not_allowed)\n__root__ -> voices -> 46 -> sharing -> youtube_username\n  none is not an allowed value (type=type_error.none.not_allowed)\n__root__ -> voices -> 46 -> sharing -> tiktok_username\n  none is not an allowed value (type=type_error.none.not_allowed)\n__root__ -> voices -> 46 -> sharing -> ban_reason\n  none is not an allowed value (type=type_error.none.not_allowed)\n__root__ -> voices -> 46 -> sharing -> review_message\n  none is not an allowed value (type=type_error.none.not_allowed)\n__root__ -> voices -> 47 -> sharing -> history_item_sample_id\n  none is not an allowed value (type=type_error.none.not_allowed)\n__root__ -> voices -> 47 -> sharing -> disable_at_unix\n  none is not an allowed value (type=type_error.none.not_allowed)\n__root__ -> voices -> 47 -> sharing -> instagram_username\n  none is not an allowed value (type=type_error.none.not_allowed)\n__root__ -> voices -> 47 -> sharing -> twitter_username\n  none is not an allowed value (type=type_error.none.not_allowed)\n__root__ -> voices -> 47 -> sharing -> youtube_username\n  none is not an allowed value (type=type_error.none.not_allowed)\n__root__ -> voices -> 47 -> sharing -> tiktok_username\n  none is not an allowed value (type=type_error.none.not_allowed)\n__root__ -> voices -> 47 -> sharing -> ban_reason\n  none is not an allowed value (type=type_error.none.not_allowed)\n__root__ -> voices -> 47 -> sharing -> review_message\n  none is not an allowed value (type=type_error.none.not_allowed)\n__root__ -> voices -> 48 -> sharing -> history_item_sample_id\n  none is not an allowed value (type=type_error.none.not_allowed)\n__root__ -> voices -> 48 -> sharing -> disable_at_unix\n  none is not an allowed value (type=type_error.none.not_allowed)\n__root__ -> voices -> 48 -> sharing -> instagram_username\n  none is not an allowed value (type=type_error.none.not_allowed)\n__root__ -> voices -> 48 -> sharing -> twitter_username\n  none is not an allowed value (type=type_error.none.not_allowed)\n__root__ -> voices -> 48 -> sharing -> youtube_username\n  none is not an allowed value (type=type_error.none.not_allowed)\n__root__ -> voices -> 48 -> sharing -> tiktok_username\n  none is not an allowed value (type=type_error.none.not_allowed)\n__root__ -> voices -> 48 -> sharing -> ban_reason\n  none is not an allowed value (type=type_error.none.not_allowed)\n__root__ -> voices -> 48 -> sharing -> review_message\n  none is not an allowed value (type=type_error.none.not_allowed)"
     ]
    }
   ],
   "source": [
    "from elevenlabs import play\n",
    "from elevenlabs.client import ElevenLabs\n",
    "\n",
    "client = ElevenLabs(\n",
    "  api_key=\"32da7ece4e40e3a0958f92cc392f3f0f\", # Defaults to ELEVEN_API_KEY\n",
    ")\n",
    "\n",
    "audio = client.generate(\n",
    "  text=\"Hello! 你好! Hola! नमस्ते! Bonjour! こんにちは! مرحبا! 안녕하세요! Ciao! Cześć! Привіт! வணக்கம்!\",\n",
    "  voice=\"Rachel\",\n",
    "  model=\"eleven_multilingual_v2\"\n",
    ")\n",
    "play(audio)"
   ]
  },
  {
   "cell_type": "code",
   "execution_count": null,
   "metadata": {},
   "outputs": [],
   "source": []
  }
 ],
 "metadata": {
  "kernelspec": {
   "display_name": "Python 3",
   "language": "python",
   "name": "python3"
  },
  "language_info": {
   "codemirror_mode": {
    "name": "ipython",
    "version": 3
   },
   "file_extension": ".py",
   "mimetype": "text/x-python",
   "name": "python",
   "nbconvert_exporter": "python",
   "pygments_lexer": "ipython3",
   "version": "3.9.6"
  }
 },
 "nbformat": 4,
 "nbformat_minor": 2
}
